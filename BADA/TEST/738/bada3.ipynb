{
 "cells": [
  {
   "cell_type": "code",
   "execution_count": 4,
   "id": "f7d0bad9",
   "metadata": {},
   "outputs": [
    {
     "ename": "ModuleNotFoundError",
     "evalue": "No module named 'pyBADA.bada3.conversions'; 'pyBADA.bada3' is not a package",
     "output_type": "error",
     "traceback": [
      "\u001b[31m---------------------------------------------------------------------------\u001b[39m",
      "\u001b[31mModuleNotFoundError\u001b[39m                       Traceback (most recent call last)",
      "\u001b[36mCell\u001b[39m\u001b[36m \u001b[39m\u001b[32mIn[4]\u001b[39m\u001b[32m, line 1\u001b[39m\n\u001b[32m----> \u001b[39m\u001b[32m1\u001b[39m \u001b[38;5;28;01mimport\u001b[39;00m\u001b[38;5;250m \u001b[39m\u001b[34;01mpyBADA\u001b[39;00m\u001b[34;01m.\u001b[39;00m\u001b[34;01mbada3\u001b[39;00m\u001b[34;01m.\u001b[39;00m\u001b[34;01mconversions\u001b[39;00m\u001b[38;5;250m \u001b[39m\u001b[38;5;28;01mas\u001b[39;00m\u001b[38;5;250m \u001b[39m\u001b[34;01mconv\u001b[39;00m   \n",
      "\u001b[31mModuleNotFoundError\u001b[39m: No module named 'pyBADA.bada3.conversions'; 'pyBADA.bada3' is not a package"
     ]
    }
   ],
   "source": [
    "import pyBADA.bada3.conversions as conv   "
   ]
  },
  {
   "cell_type": "code",
   "execution_count": 1,
   "id": "d190d612",
   "metadata": {},
   "outputs": [],
   "source": [
    "from pyBADA.bada4 import BADA4, Airplane"
   ]
  },
  {
   "cell_type": "code",
   "execution_count": 8,
   "id": "69a183b5",
   "metadata": {},
   "outputs": [],
   "source": [
    "from pyBADA.bada3 import BADA3"
   ]
  },
  {
   "cell_type": "code",
   "execution_count": 9,
   "id": "c600df2a",
   "metadata": {},
   "outputs": [
    {
     "ename": "ModuleNotFoundError",
     "evalue": "No module named 'pyBADA.bada3.conversions'; 'pyBADA.bada3' is not a package",
     "output_type": "error",
     "traceback": [
      "\u001b[31m---------------------------------------------------------------------------\u001b[39m",
      "\u001b[31mModuleNotFoundError\u001b[39m                       Traceback (most recent call last)",
      "\u001b[36mCell\u001b[39m\u001b[36m \u001b[39m\u001b[32mIn[9]\u001b[39m\u001b[32m, line 1\u001b[39m\n\u001b[32m----> \u001b[39m\u001b[32m1\u001b[39m \u001b[38;5;28;01mimport\u001b[39;00m\u001b[38;5;250m \u001b[39m\u001b[34;01mpyBADA\u001b[39;00m\u001b[34;01m.\u001b[39;00m\u001b[34;01mbada3\u001b[39;00m\u001b[34;01m.\u001b[39;00m\u001b[34;01mconversions\u001b[39;00m\u001b[38;5;250m \u001b[39m\u001b[38;5;28;01mas\u001b[39;00m\u001b[38;5;250m \u001b[39m\u001b[34;01mconv\u001b[39;00m   \n",
      "\u001b[31mModuleNotFoundError\u001b[39m: No module named 'pyBADA.bada3.conversions'; 'pyBADA.bada3' is not a package"
     ]
    }
   ],
   "source": [
    "\n",
    "\n",
    "import pyBADA.bada3.conversions as conv   "
   ]
  }
 ],
 "metadata": {
  "kernelspec": {
   "display_name": "atc_sim",
   "language": "python",
   "name": "python3"
  },
  "language_info": {
   "codemirror_mode": {
    "name": "ipython",
    "version": 3
   },
   "file_extension": ".py",
   "mimetype": "text/x-python",
   "name": "python",
   "nbconvert_exporter": "python",
   "pygments_lexer": "ipython3",
   "version": "3.12.11"
  }
 },
 "nbformat": 4,
 "nbformat_minor": 5
}
