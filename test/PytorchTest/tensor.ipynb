{
 "cells": [
  {
   "cell_type": "markdown",
   "id": "579036dc",
   "metadata": {},
   "source": [
    "# Pytorch\n",
    "## Tensor 基础知识"
   ]
  },
  {
   "cell_type": "code",
   "execution_count": 9,
   "id": "0102c3a8",
   "metadata": {},
   "outputs": [],
   "source": [
    "import numpy as np\n",
    "import torch"
   ]
  },
  {
   "cell_type": "code",
   "execution_count": 3,
   "id": "a49ad808",
   "metadata": {},
   "outputs": [
    {
     "name": "stdout",
     "output_type": "stream",
     "text": [
      "Type: torch.FloatTensor\n",
      "Size: torch.Size([3, 4])\n",
      "Values: \n",
      "tensor([[1.2516e-02, 0.0000e+00, 0.0000e+00, 0.0000e+00],\n",
      "        [       nan, 4.2923e-41, 1.7753e+28, 7.1493e+22],\n",
      "        [1.1989e+33, 7.0355e+22, 3.9615e+28, 3.8016e-39]])\n"
     ]
    }
   ],
   "source": [
    "# 创建一个张量\n",
    "x = torch.Tensor(3, 4)\n",
    "print(\"Type: {}\".format(x.type()))\n",
    "print(\"Size: {}\".format(x.shape))\n",
    "print(\"Values: \\n{}\".format(x))  # print(\"Values: \\n{}\".format(x))\n"
   ]
  },
  {
   "cell_type": "markdown",
   "id": "39247249",
   "metadata": {},
   "source": [
    "``创建一个张量 x，它的形状是 (3, 4)，即 3 行 4 列。\n",
    "\n",
    "注意：torch.Tensor() 会 返回一个未初始化的张量，即张量中的数值是内存中的随机值，不是全零或全一。``"
   ]
  },
  {
   "cell_type": "code",
   "execution_count": null,
   "id": "0ab0b430",
   "metadata": {},
   "outputs": [
    {
     "name": "stdout",
     "output_type": "stream",
     "text": [
      "tensor([[0., 0., 0.],\n",
      "        [0., 0., 0.]])\n",
      "tensor([[1., 1., 1.],\n",
      "        [1., 1., 1.]])\n"
     ]
    }
   ],
   "source": [
    "# 列表（List） → 张量\n",
    "\n",
    "x = torch.zeros(2,3)\n",
    "print(x)\n",
    "x = torch.ones(2,3)\n",
    "print(x)"
   ]
  },
  {
   "cell_type": "code",
   "execution_count": 10,
   "id": "9abddbca",
   "metadata": {},
   "outputs": [
    {
     "name": "stdout",
     "output_type": "stream",
     "text": [
      "[[0.78215092 0.88463964 0.39280108]\n",
      " [0.46926138 0.34710096 0.7951139 ]]\n",
      "Size: torch.Size([2, 3])\n",
      "Values: \n",
      "tensor([[0.7822, 0.8846, 0.3928],\n",
      "        [0.4693, 0.3471, 0.7951]], dtype=torch.float64)\n"
     ]
    }
   ],
   "source": [
    "# NumPy 数组 → 张量\n",
    "y = np.random.rand(2, 3)\n",
    "print(y)\n",
    "x = torch.from_numpy(y)\n",
    "print(\"Size: {}\".format(x.shape)) \n",
    "print(\"Values: \\n{}\".format(x))"
   ]
  },
  {
   "cell_type": "markdown",
   "id": "f36d8c65",
   "metadata": {},
   "source": [
    "🔍 总结\n",
    "步骤\t                                       说明\n",
    "np.random.rand(2, 3)\t            创建一个 2×3 的 NumPy 数组，包含 [0, 1) 的随机浮点数\n",
    "torch.from_numpy(y)\t                把 NumPy 数组转成张量，数据共享（不会复制）\n",
    ".shape\t                            查看张量的形状\n",
    ".dtype\t                            保留了 NumPy 的 float64 类型（不像默认 float32）\n"
   ]
  },
  {
   "cell_type": "code",
   "execution_count": 12,
   "id": "7e00288a",
   "metadata": {},
   "outputs": [
    {
     "name": "stdout",
     "output_type": "stream",
     "text": [
      "Type: torch.FloatTensor\n",
      "Type: torch.LongTensor\n"
     ]
    }
   ],
   "source": [
    "# 改变张量类型（张量默认为float类型）\n",
    "x = torch.Tensor(3, 4)\n",
    "print(\"Type: {}\".format(x.type()))\n",
    "x = x.long()\n",
    "print(\"Type: {}\".format(x.type()))"
   ]
  },
  {
   "cell_type": "markdown",
   "id": "7fab522d",
   "metadata": {},
   "source": [
    "# Tensor 运算"
   ]
  },
  {
   "cell_type": "code",
   "execution_count": 13,
   "id": "10f2d874",
   "metadata": {},
   "outputs": [
    {
     "name": "stdout",
     "output_type": "stream",
     "text": [
      "Size: torch.Size([2, 3])\n",
      "Values: \n",
      "tensor([[ 1.1923, -1.1538,  1.2892],\n",
      "        [ 0.0266,  0.3783,  1.9615]])\n"
     ]
    }
   ],
   "source": [
    "# 加法\n",
    "x = torch.randn(2, 3)\n",
    "y = torch.randn(2, 3)\n",
    "z = x + y\n",
    "print(\"Size: {}\".format(z.shape)) \n",
    "print(\"Values: \\n{}\".format(z))"
   ]
  },
  {
   "cell_type": "code",
   "execution_count": 14,
   "id": "03c7683f",
   "metadata": {},
   "outputs": [
    {
     "name": "stdout",
     "output_type": "stream",
     "text": [
      "Size: torch.Size([2, 2])\n",
      "Values: \n",
      "tensor([[-2.5079, -4.4213],\n",
      "        [ 0.0623,  1.3353]])\n"
     ]
    }
   ],
   "source": [
    "# 向量点积\n",
    "x = torch.randn(2, 3)\n",
    "y = torch.randn(3, 2)\n",
    "z = torch.mm(x, y)\n",
    "print(\"Size: {}\".format(z.shape)) \n",
    "print(\"Values: \\n{}\".format(z))"
   ]
  },
  {
   "cell_type": "code",
   "execution_count": 15,
   "id": "405aa42d",
   "metadata": {},
   "outputs": [
    {
     "name": "stdout",
     "output_type": "stream",
     "text": [
      "Size: torch.Size([2, 3])\n",
      "Values: \n",
      "tensor([[-1.7045, -0.0019, -0.6959],\n",
      "        [-0.7181, -0.6192,  0.2743]])\n",
      "Size: torch.Size([3, 2])\n",
      "Values: \n",
      "tensor([[-1.7045, -0.7181],\n",
      "        [-0.0019, -0.6192],\n",
      "        [-0.6959,  0.2743]])\n"
     ]
    }
   ],
   "source": [
    "# 转置\n",
    "x = torch.randn(2, 3)\n",
    "print(\"Size: {}\".format(x.shape)) \n",
    "print(\"Values: \\n{}\".format(x))\n",
    "y = torch.t(x)\n",
    "print(\"Size: {}\".format(y.shape)) \n",
    "print(\"Values: \\n{}\".format(y))"
   ]
  },
  {
   "cell_type": "code",
   "execution_count": 16,
   "id": "ed1f1d70",
   "metadata": {},
   "outputs": [
    {
     "name": "stdout",
     "output_type": "stream",
     "text": [
      "Size: torch.Size([3, 2])\n",
      "Values: \n",
      "tensor([[-1.7045, -0.0019],\n",
      "        [-0.6959, -0.7181],\n",
      "        [-0.6192,  0.2743]])\n"
     ]
    }
   ],
   "source": [
    "# Reshape\n",
    "z = x.view(3, 2)\n",
    "print(\"Size: {}\".format(z.shape)) \n",
    "print(\"Values: \\n{}\".format(z))"
   ]
  },
  {
   "cell_type": "code",
   "execution_count": 17,
   "id": "417aa487",
   "metadata": {},
   "outputs": [],
   "source": [
    "values, _ = torch.max(x, dim=0)"
   ]
  },
  {
   "cell_type": "markdown",
   "id": "55067e1e",
   "metadata": {},
   "source": [
    ".transpose() 更通用，适用于多维张量。\n",
    "\n",
    "它需要你显式指定两个维度要互换。\n",
    "\n",
    "如果你对二维张量使用 .transpose(0, 1)，等价于 .t()。\n",
    "\n",
    "\n",
    "🧠 你可以记住这句话：\n",
    "dim=N 表示：对第 N 维“跨着”去求和，把这一维“压扁”掉了。\n",
    "\n"
   ]
  },
  {
   "cell_type": "markdown",
   "id": "ac0cdc38",
   "metadata": {},
   "source": [
    "# 索引，切片和级联"
   ]
  },
  {
   "cell_type": "code",
   "execution_count": 19,
   "id": "ace47606",
   "metadata": {},
   "outputs": [
    {
     "name": "stdout",
     "output_type": "stream",
     "text": [
      "x: \n",
      "tensor([[ 1.4162, -1.5315,  0.0163,  1.3601],\n",
      "        [ 1.4041,  1.2902,  0.9746, -0.6042],\n",
      "        [ 1.3510,  0.0393, -0.2837,  0.8712]])\n",
      "x[:1]: \n",
      "tensor([[ 1.4162, -1.5315,  0.0163,  1.3601]])\n",
      "x[:1, 1:3]: \n",
      "tensor([[-1.5315,  0.0163]])\n"
     ]
    }
   ],
   "source": [
    "x= torch.randn(3, 4)\n",
    "print(\"x: \\n{}\".format(x))\n",
    "print (\"x[:1]: \\n{}\".format(x[:1]))\n",
    "print (\"x[:1, 1:3]: \\n{}\".format(x[:1, 1:3]))"
   ]
  },
  {
   "cell_type": "code",
   "execution_count": null,
   "id": "dfd885c5",
   "metadata": {},
   "outputs": [],
   "source": [
    "# 选择维度索引\n",
    "x = torch.randn(2, 3)\n",
    "print(\"Values: \\n{}\".format(x))\n",
    "col_indices = torch.LongTensor([0, 2])\n",
    "chosen = torch.index_select(x, dim=1, index=col_indices) # 第0和第2列的值\n",
    "print(\"Values: \\n{}\".format(chosen)) \n",
    "row_indices = torch.LongTensor([0, 1])\n",
    "chosen = x[row_indices, col_indices] # 来自（0,0）和（2,1）的值\n",
    "print(\"Values: \\n{}\".format(chosen)) "
   ]
  },
  {
   "cell_type": "code",
   "execution_count": 22,
   "id": "98601414",
   "metadata": {},
   "outputs": [
    {
     "name": "stdout",
     "output_type": "stream",
     "text": [
      "Values: \n",
      "tensor([[-0.7532, -1.2837,  1.5405],\n",
      "        [ 0.9681,  1.3670,  0.4629]])\n",
      "Values: \n",
      "tensor([[-0.7532, -1.2837,  1.5405],\n",
      "        [ 0.9681,  1.3670,  0.4629],\n",
      "        [-0.7532, -1.2837,  1.5405],\n",
      "        [ 0.9681,  1.3670,  0.4629]])\n"
     ]
    }
   ],
   "source": [
    "# 级联\n",
    "x = torch.randn(2, 3)\n",
    "print(\"Values: \\n{}\".format(x))\n",
    "y = torch.cat([x, x], dim=0) # 按行堆叠（dim = 1按列堆叠）\n",
    "print(\"Values: \\n{}\".format(y))"
   ]
  },
  {
   "cell_type": "markdown",
   "id": "dac4f5e5",
   "metadata": {},
   "source": [
    "# 梯度\n",
    "y=3x+2\n",
    " \n",
    "z=∑y/N\n",
    "∂(z)/∂(x)=∂(z)/∂(y) ∂(z)/(x)=1/N∗3=1/12∗3=0.25"
   ]
  },
  {
   "cell_type": "code",
   "execution_count": null,
   "id": "77cea70b",
   "metadata": {},
   "outputs": [
    {
     "name": "stdout",
     "output_type": "stream",
     "text": [
      "Values: \n",
      "tensor([[0.4809, 0.2861, 0.7074, 0.8419],\n",
      "        [0.9368, 0.9966, 0.0825, 0.9824],\n",
      "        [0.3913, 0.5373, 0.6326, 0.1971]], requires_grad=True)\n",
      "x.grad: \n",
      " tensor([[0.0802, 0.0477, 0.1179, 0.1403],\n",
      "        [0.1561, 0.1661, 0.0138, 0.1637],\n",
      "        [0.0652, 0.0896, 0.1054, 0.0329]])\n"
     ]
    }
   ],
   "source": [
    "# 带有gradient bookkeeping的张量\n",
    "x = torch.rand(3, 4, requires_grad=True)\n",
    "y = 3*x + 2\n",
    "z = y.mean()\n",
    "z.backward() # z是标量\n",
    "print(\"Values: \\n{}\".format(x))\n",
    "print(\"x.grad: \\n\", x.grad)"
   ]
  },
  {
   "cell_type": "code",
   "execution_count": null,
   "id": "a77cc4c1",
   "metadata": {},
   "outputs": [],
   "source": []
  },
  {
   "cell_type": "code",
   "execution_count": 24,
   "id": "26c1b48d",
   "metadata": {},
   "outputs": [
    {
     "name": "stdout",
     "output_type": "stream",
     "text": [
      "True\n"
     ]
    }
   ],
   "source": [
    "# CUDA可用吗？\n",
    "print (torch.cuda.is_available())"
   ]
  },
  {
   "cell_type": "markdown",
   "id": "872a74b6",
   "metadata": {},
   "source": [
    "# 如果上面的代码返回False，那么请转到菜单栏上的Runtime→Change runtime type并在Hardware accelerator下选择GPU"
   ]
  },
  {
   "cell_type": "code",
   "execution_count": 25,
   "id": "4110e26d",
   "metadata": {},
   "outputs": [
    {
     "name": "stdout",
     "output_type": "stream",
     "text": [
      "Type: torch.FloatTensor\n"
     ]
    }
   ],
   "source": [
    "# 创建一个CPU版的0张量\n",
    "x = torch.Tensor(3, 4).to(\"cpu\")\n",
    "print(\"Type: {}\".format(x.type()))"
   ]
  },
  {
   "cell_type": "code",
   "execution_count": 26,
   "id": "74add959",
   "metadata": {},
   "outputs": [
    {
     "name": "stdout",
     "output_type": "stream",
     "text": [
      "Type: torch.cuda.FloatTensor\n"
     ]
    }
   ],
   "source": [
    "# 创建一个CUDA版的0张量\n",
    "x = torch.Tensor(3, 4).to(\"cuda\")\n",
    "print(\"Type: {}\".format(x.type()))"
   ]
  },
  {
   "cell_type": "code",
   "execution_count": 29,
   "id": "97d0ed87",
   "metadata": {},
   "outputs": [
    {
     "name": "stdout",
     "output_type": "stream",
     "text": [
      "当前使用设备: cuda\n",
      "CUDA 可用: True\n",
      "GPU 名称: NVIDIA GeForce RTX 2050\n",
      "支持 TF32（TensorFloat-32）: False\n",
      "不支持 FP16 运算 ❌\n",
      "不支持 FP64 运算 ❌\n"
     ]
    }
   ],
   "source": [
    "import torch\n",
    "\n",
    "device = torch.device(\"cuda\" if torch.cuda.is_available() else \"cpu\")\n",
    "\n",
    "print(f\"当前使用设备: {device}\")\n",
    "print(f\"CUDA 可用: {torch.cuda.is_available()}\")\n",
    "if torch.cuda.is_available():\n",
    "    print(f\"GPU 名称: {torch.cuda.get_device_name(0)}\")\n",
    "\n",
    "    # 检查是否支持 TensorFloat-32\n",
    "    tf32_supported = torch.backends.cuda.matmul.allow_tf32\n",
    "    print(f\"支持 TF32（TensorFloat-32）: {tf32_supported}\")\n",
    "\n",
    "    # 检查半精度是否可用（FP16）\n",
    "    try:\n",
    "        a = torch.randn((1000, 1000), dtype=torch.float16, device=device)\n",
    "        b = torch.matmul(a, a)\n",
    "        print(\"支持 FP16 运算 ✅\")\n",
    "    except RuntimeError:\n",
    "        print(\"不支持 FP16 运算 ❌\")\n",
    "\n",
    "    # 检查双精度（FP64）\n",
    "    try:\n",
    "        a = torch.randn((1000, 1000), dtype=torch.float64, device=device)\n",
    "        b = torch.matmul(a, a)\n",
    "        print(\"支持 FP64 运算 ✅\")\n",
    "    except RuntimeError:\n",
    "        print(\"不支持 FP64 运算 ❌\")\n"
   ]
  },
  {
   "cell_type": "code",
   "execution_count": 30,
   "id": "8150e1b4",
   "metadata": {},
   "outputs": [
    {
     "name": "stdout",
     "output_type": "stream",
     "text": [
      "torch.float32\n"
     ]
    }
   ],
   "source": [
    "import torch\n",
    "x = torch.tensor([1.23])     # 默认 dtype=torch.float32\n",
    "print(x.dtype) "
   ]
  },
  {
   "cell_type": "code",
   "execution_count": null,
   "id": "e657db5b",
   "metadata": {},
   "outputs": [],
   "source": []
  }
 ],
 "metadata": {
  "kernelspec": {
   "display_name": "upcenv",
   "language": "python",
   "name": "python3"
  },
  "language_info": {
   "codemirror_mode": {
    "name": "ipython",
    "version": 3
   },
   "file_extension": ".py",
   "mimetype": "text/x-python",
   "name": "python",
   "nbconvert_exporter": "python",
   "pygments_lexer": "ipython3",
   "version": "3.10.16"
  }
 },
 "nbformat": 4,
 "nbformat_minor": 5
}
