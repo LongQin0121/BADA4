{
 "cells": [
  {
   "cell_type": "code",
   "execution_count": null,
   "id": "8ac54001",
   "metadata": {},
   "outputs": [
    {
     "data": {
      "text/plain": [
       "13"
      ]
     },
     "execution_count": 1,
     "metadata": {},
     "output_type": "execute_result"
    }
   ],
   "source": [
    "1+12"
   ]
  },
  {
   "cell_type": "code",
   "execution_count": null,
   "id": "0577c623",
   "metadata": {},
   "outputs": [
    {
     "data": {
      "text/plain": [
       "5"
      ]
     },
     "execution_count": 2,
     "metadata": {},
     "output_type": "execute_result"
    }
   ],
   "source": [
    "2+3"
   ]
  },
  {
   "cell_type": "code",
   "execution_count": null,
   "id": "7e708583",
   "metadata": {},
   "outputs": [
    {
     "name": "stdout",
     "output_type": "stream",
     "text": [
      "Hello, Python in VS Code!\n",
      "🔍 正在检测包是否成功安装...\n",
      "\n",
      "✅ 成功导入：numpy\n",
      "✅ 成功导入：pandas\n",
      "✅ 成功导入：sklearn\n",
      "✅ 成功导入：matplotlib.pyplot\n",
      "✅ 成功导入：seaborn\n",
      "✅ 成功导入：torch\n",
      "✅ 成功导入：tensorflow\n",
      "\n",
      "✅ 检查完毕！\n"
     ]
    }
   ],
   "source": [
    "print(\"Hello, Python in VS Code!\")\n",
    "\n",
    "packages = {\n",
    "    \"numpy\": \"np\",\n",
    "    \"pandas\": \"pd\",\n",
    "    \"sklearn\": \"sk\",\n",
    "    \"matplotlib.pyplot\": \"plt\",\n",
    "    \"seaborn\": \"sns\",\n",
    "    \"torch\": \"torch\",\n",
    "    \"tensorflow\": \"tf\"\n",
    "}\n",
    "\n",
    "print(\"🔍 正在检测包是否成功安装...\\n\")\n",
    "\n",
    "for package, alias in packages.items():\n",
    "    try:\n",
    "        exec(f\"import {package} as {alias}\")\n",
    "        print(f\"✅ 成功导入：{package}\")\n",
    "    except ImportError:\n",
    "        print(f\"❌ 未安装：{package}\")\n",
    "\n",
    "print(\"\\n✅ 检查完毕!!!！\")"
   ]
  }
 ],
 "metadata": {
  "kernelspec": {
   "display_name": "upcenv",
   "language": "python",
   "name": "python3"
  },
  "language_info": {
   "codemirror_mode": {
    "name": "ipython",
    "version": 3
   },
   "file_extension": ".py",
   "mimetype": "text/x-python",
   "name": "python",
   "nbconvert_exporter": "python",
   "pygments_lexer": "ipython3",
   "version": "3.11.11"
  }
 },
 "nbformat": 4,
 "nbformat_minor": 5
}
